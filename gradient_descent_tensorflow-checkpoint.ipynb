{
 "cells": [
  {
   "cell_type": "code",
   "execution_count": 1,
   "metadata": {},
   "outputs": [
    {
     "name": "stdout",
     "output_type": "stream",
     "text": [
      "    0|     2.452|     0.376| 45.660004|\n",
      "   10|     1.104|  0.003398|  0.206336|\n",
      "   20|     1.013|  -0.02091|  0.001026|\n",
      "   30|     1.007|  -0.02184|  0.000093|\n",
      "   40|     1.006|  -0.02123|  0.000083|\n",
      "   50|     1.006|  -0.02053|  0.000077|\n",
      "   60|     1.005|  -0.01984|  0.000072|\n",
      "   70|     1.005|  -0.01918|  0.000067|\n",
      "   80|     1.005|  -0.01854|  0.000063|\n",
      "   90|     1.005|  -0.01793|  0.000059|\n"
     ]
    }
   ],
   "source": [
    "import tensorflow as tf\n",
    "import numpy as np\n",
    "x_data = [1, 2, 3, 4, 5]\n",
    "y_data = [1, 2, 3, 4, 5]\n",
    "\n",
    "w = tf.Variable(2.9)\n",
    "b = tf.Variable(0.5)\n",
    "\n",
    "hypothesis = w*x_data + b\n",
    "\n",
    "cost = tf.reduce_mean(tf.square(hypothesis-y_data))\n",
    "\n",
    "learning_rate=0.01\n",
    "for i in range (100):\n",
    "    \n",
    "    with tf.GradientTape() as tape: \n",
    "        hypothesis = w*x_data + b\n",
    "        cost = tf.reduce_mean(tf.square(hypothesis-y_data))\n",
    "    \n",
    "    w_grad, b_grad = tape.gradient(cost, [w, b])\n",
    "\n",
    "    w.assign_sub(learning_rate*w_grad)\n",
    "    b.assign_sub(learning_rate*b_grad)\n",
    "    if i % 10 == 0:\n",
    "        print(\"{:5}|{:10.4}|{:10.4}|{:10.6f}|\".format(i, w.numpy(), b.numpy(), cost))"
   ]
  },
  {
   "cell_type": "code",
   "execution_count": 2,
   "metadata": {
    "scrolled": true
   },
   "outputs": [
    {
     "name": "stdout",
     "output_type": "stream",
     "text": [
      "    0|      1.75|      1.15| 14.250000|\n",
      "   10|     1.952|     1.172|  0.005553|\n",
      "   20|      1.96|     1.145|  0.003948|\n",
      "   30|     1.966|     1.122|  0.002807|\n",
      "   40|     1.971|     1.103|  0.001996|\n",
      "   50|     1.976|     1.087|  0.001420|\n",
      "   60|      1.98|     1.073|  0.001009|\n",
      "   70|     1.983|     1.062|  0.000718|\n",
      "   80|     1.986|     1.052|  0.000510|\n",
      "   90|     1.988|     1.044|  0.000363|\n",
      "  100|      1.99|     1.037|  0.000258|\n",
      "  110|     1.991|     1.031|  0.000183|\n",
      "  120|     1.993|     1.026|  0.000130|\n",
      "  130|     1.994|     1.022|  0.000093|\n",
      "  140|     1.995|     1.019|  0.000066|\n",
      "  150|     1.996|     1.016|  0.000047|\n",
      "  160|     1.996|     1.013|  0.000033|\n",
      "  170|     1.997|     1.011|  0.000024|\n",
      "  180|     1.997|     1.009|  0.000017|\n",
      "  190|     1.998|     1.008|  0.000012|\n",
      "  200|     1.998|     1.007|  0.000009|\n",
      "  210|     1.998|     1.006|  0.000006|\n",
      "  220|     1.999|     1.005|  0.000004|\n",
      "  230|     1.999|     1.004|  0.000003|\n",
      "  240|     1.999|     1.003|  0.000002|\n",
      "  250|     1.999|     1.003|  0.000002|\n",
      "  260|     1.999|     1.002|  0.000001|\n",
      "  270|     1.999|     1.002|  0.000001|\n",
      "  280|       2.0|     1.002|  0.000001|\n",
      "  290|       2.0|     1.001|  0.000000|\n",
      "  300|       2.0|     1.001|  0.000000|\n",
      "  310|       2.0|     1.001|  0.000000|\n",
      "  320|       2.0|     1.001|  0.000000|\n",
      "  330|       2.0|     1.001|  0.000000|\n",
      "  340|       2.0|     1.001|  0.000000|\n",
      "  350|       2.0|     1.001|  0.000000|\n",
      "  360|       2.0|       1.0|  0.000000|\n",
      "  370|       2.0|       1.0|  0.000000|\n",
      "  380|       2.0|       1.0|  0.000000|\n",
      "  390|       2.0|       1.0|  0.000000|\n",
      "  400|       2.0|       1.0|  0.000000|\n",
      "  410|       2.0|       1.0|  0.000000|\n",
      "  420|       2.0|       1.0|  0.000000|\n",
      "  430|       2.0|       1.0|  0.000000|\n",
      "  440|       2.0|       1.0|  0.000000|\n",
      "  450|       2.0|       1.0|  0.000000|\n",
      "  460|       2.0|       1.0|  0.000000|\n",
      "  470|       2.0|       1.0|  0.000000|\n",
      "  480|       2.0|       1.0|  0.000000|\n",
      "  490|       2.0|       1.0|  0.000000|\n",
      "  500|       2.0|       1.0|  0.000000|\n"
     ]
    }
   ],
   "source": [
    "import tensorflow as tf\n",
    "import numpy as np\n",
    "dataX = [1, 2, 3, 4, 5]\n",
    "dataY = [3, 5, 7, 9, 11]\n",
    "\n",
    "w = tf.Variable(3.0)\n",
    "b = tf.Variable(1.5)\n",
    "\n",
    "H = w*dataX + b\n",
    "\n",
    "cost = tf.reduce_mean(tf.square(H-dataY))\n",
    "\n",
    "learning_rate=0.05\n",
    "for i in range (500+1):\n",
    "    \n",
    "    with tf.GradientTape() as tape: \n",
    "        H = w*dataX + b\n",
    "        cost = tf.reduce_mean(tf.square(H-dataY))\n",
    "    \n",
    "    gradW, gradB = tape.gradient(cost, [w, b])\n",
    "\n",
    "    w.assign_sub(learning_rate*gradW)\n",
    "    b.assign_sub(learning_rate*gradB)\n",
    "    if i % 10 == 0:\n",
    "        print(\"{:5}|{:10.4}|{:10.4}|{:10.6f}|\".format(i, w.numpy(), b.numpy(), cost))"
   ]
  },
  {
   "cell_type": "code",
   "execution_count": 3,
   "metadata": {},
   "outputs": [
    {
     "name": "stdout",
     "output_type": "stream",
     "text": [
      "-3.000 |   74.66667\n",
      "-2.429 |   54.85714\n",
      "-1.857 |   38.09524\n",
      "-1.286 |   24.38095\n",
      "-0.714 |   13.71429\n",
      "-0.143 |    6.09524\n",
      " 0.429 |    1.52381\n",
      " 1.000 |    0.00000\n",
      " 1.571 |    1.52381\n",
      " 2.143 |    6.09524\n",
      " 2.714 |   13.71429\n",
      " 3.286 |   24.38095\n",
      " 3.857 |   38.09524\n",
      " 4.429 |   54.85714\n",
      " 5.000 |   74.66667\n"
     ]
    }
   ],
   "source": [
    "import numpy as np\n",
    "x = np.array([1, 2, 3])\n",
    "y = np.array([1, 2, 3])\n",
    "\n",
    "def cost_func(w, x, y):\n",
    "    c = 0\n",
    "    for i in range (len(x)):\n",
    "        c += (w*x[i]-y[i])**2\n",
    "    return c/len(x)\n",
    "\n",
    "for feed_w in np.linspace(-3, 5, num=15):\n",
    "    curr_cost = cost_func(feed_w, x, y) \n",
    "    print(\"{:6.3f} | {:10.5f}\".format(feed_w, curr_cost))"
   ]
  },
  {
   "cell_type": "code",
   "execution_count": 4,
   "metadata": {},
   "outputs": [
    {
     "name": "stdout",
     "output_type": "stream",
     "text": [
      "-3.000 |   74.66667\n",
      "-2.429 |   54.85714\n",
      "-1.857 |   38.09524\n",
      "-1.286 |   24.38095\n",
      "-0.714 |   13.71429\n",
      "-0.143 |    6.09524\n",
      " 0.429 |    1.52381\n",
      " 1.000 |    0.00000\n",
      " 1.571 |    1.52381\n",
      " 2.143 |    6.09524\n",
      " 2.714 |   13.71429\n",
      " 3.286 |   24.38095\n",
      " 3.857 |   38.09524\n",
      " 4.429 |   54.85714\n",
      " 5.000 |   74.66667\n"
     ]
    }
   ],
   "source": [
    "import numpy as np\n",
    "import tensorflow as tf\n",
    "X = np.array([1, 2, 3])\n",
    "Y = np.array([1, 2, 3])\n",
    "\n",
    "def cost_fun(W, X, Y):\n",
    "    hypothesis = W * X\n",
    "    return tf.reduce_mean(tf.square(hypothesis - Y))\n",
    "\n",
    "W_values = np.linspace(-3, 5, num = 15)\n",
    "cost_values = []\n",
    "\n",
    "for feed_W in W_values: \n",
    "    curr_cost = cost_fun(feed_W, X, Y)\n",
    "    cost_values.append(curr_cost)\n",
    "    print(\"{:6.3f} | {:10.5f}\".format(feed_W, curr_cost))"
   ]
  },
  {
   "cell_type": "code",
   "execution_count": null,
   "metadata": {},
   "outputs": [],
   "source": []
  },
  {
   "cell_type": "code",
   "execution_count": null,
   "metadata": {},
   "outputs": [],
   "source": []
  },
  {
   "cell_type": "code",
   "execution_count": null,
   "metadata": {},
   "outputs": [],
   "source": []
  },
  {
   "cell_type": "code",
   "execution_count": null,
   "metadata": {},
   "outputs": [],
   "source": []
  },
  {
   "cell_type": "code",
   "execution_count": null,
   "metadata": {},
   "outputs": [],
   "source": []
  },
  {
   "cell_type": "code",
   "execution_count": null,
   "metadata": {},
   "outputs": [],
   "source": []
  },
  {
   "cell_type": "code",
   "execution_count": null,
   "metadata": {},
   "outputs": [],
   "source": []
  },
  {
   "cell_type": "code",
   "execution_count": null,
   "metadata": {},
   "outputs": [],
   "source": []
  },
  {
   "cell_type": "code",
   "execution_count": null,
   "metadata": {},
   "outputs": [],
   "source": []
  },
  {
   "cell_type": "code",
   "execution_count": null,
   "metadata": {},
   "outputs": [],
   "source": []
  },
  {
   "cell_type": "code",
   "execution_count": null,
   "metadata": {},
   "outputs": [],
   "source": []
  },
  {
   "cell_type": "code",
   "execution_count": null,
   "metadata": {},
   "outputs": [],
   "source": []
  },
  {
   "cell_type": "code",
   "execution_count": null,
   "metadata": {},
   "outputs": [],
   "source": []
  },
  {
   "cell_type": "code",
   "execution_count": null,
   "metadata": {},
   "outputs": [],
   "source": []
  },
  {
   "cell_type": "code",
   "execution_count": null,
   "metadata": {},
   "outputs": [],
   "source": []
  },
  {
   "cell_type": "code",
   "execution_count": null,
   "metadata": {},
   "outputs": [],
   "source": []
  },
  {
   "cell_type": "code",
   "execution_count": null,
   "metadata": {},
   "outputs": [],
   "source": []
  },
  {
   "cell_type": "code",
   "execution_count": null,
   "metadata": {},
   "outputs": [],
   "source": []
  },
  {
   "cell_type": "code",
   "execution_count": null,
   "metadata": {},
   "outputs": [],
   "source": []
  },
  {
   "cell_type": "code",
   "execution_count": null,
   "metadata": {},
   "outputs": [],
   "source": []
  },
  {
   "cell_type": "code",
   "execution_count": null,
   "metadata": {},
   "outputs": [],
   "source": []
  },
  {
   "cell_type": "code",
   "execution_count": null,
   "metadata": {},
   "outputs": [],
   "source": []
  },
  {
   "cell_type": "code",
   "execution_count": null,
   "metadata": {},
   "outputs": [],
   "source": []
  },
  {
   "cell_type": "code",
   "execution_count": null,
   "metadata": {},
   "outputs": [],
   "source": []
  },
  {
   "cell_type": "code",
   "execution_count": null,
   "metadata": {},
   "outputs": [],
   "source": []
  },
  {
   "cell_type": "code",
   "execution_count": null,
   "metadata": {},
   "outputs": [],
   "source": []
  },
  {
   "cell_type": "code",
   "execution_count": null,
   "metadata": {},
   "outputs": [],
   "source": []
  },
  {
   "cell_type": "code",
   "execution_count": null,
   "metadata": {},
   "outputs": [],
   "source": []
  },
  {
   "cell_type": "code",
   "execution_count": null,
   "metadata": {},
   "outputs": [],
   "source": []
  }
 ],
 "metadata": {
  "kernelspec": {
   "display_name": "Python 3",
   "language": "python",
   "name": "python3"
  },
  "language_info": {
   "codemirror_mode": {
    "name": "ipython",
    "version": 3
   },
   "file_extension": ".py",
   "mimetype": "text/x-python",
   "name": "python",
   "nbconvert_exporter": "python",
   "pygments_lexer": "ipython3",
   "version": "3.7.6"
  }
 },
 "nbformat": 4,
 "nbformat_minor": 4
}
