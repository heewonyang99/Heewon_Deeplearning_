{
 "cells": [
  {
   "cell_type": "code",
   "execution_count": 8,
   "metadata": {},
   "outputs": [
    {
     "name": "stdout",
     "output_type": "stream",
     "text": [
      "['먼저', '텍스트의', '각', '단어를', '나누어', '토큰화합니다']\n"
     ]
    }
   ],
   "source": [
    "import tensorflow as tf\n",
    "from tensorflow.keras.preprocessing.text import text_to_word_sequence  # 문장을 단어 단위로 나누는 함수\n",
    "\n",
    "#단어 토큰화\n",
    "Text = '먼저 텍스트의 각 단어를 나누어 토큰화합니다'\n",
    "result = text_to_word_sequence(Text)\n",
    "print(result)"
   ]
  },
  {
   "cell_type": "code",
   "execution_count": 18,
   "metadata": {},
   "outputs": [
    {
     "name": "stdout",
     "output_type": "stream",
     "text": [
      "OrderedDict([('먼저', 1), ('텍스트의', 2), ('각', 2), ('단어를', 1), ('나누어', 1), ('토큰화합니다', 1), ('단어로', 1), ('토큰화해야', 1), ('딥러닝에서', 2), ('인식됩니다', 1), ('토큰화한', 1), ('결과는', 1), ('사용될', 1), ('수', 1), ('있습니다', 1)])\n"
     ]
    }
   ],
   "source": [
    "# bag of words\n",
    "import tensorflow as tf\n",
    "from tensorflow.keras.preprocessing.text import Tokenizer  #텍스트 전처리 함수\n",
    "\n",
    "docs = ['먼저 텍스트의 각 단어를 나누어 토큰화합니다.',\n",
    "       '텍스트의 각 단어로 토큰화해야 딥러닝에서 인식됩니다.',\n",
    "       '토큰화한 결과는 딥러닝에서 사용될 수 있습니다.']\n",
    "\n",
    "token = Tokenizer()  # 토큰화 함수 지정\n",
    "token.fit_on_texts(docs)  #토큰화 함수에 문장 적용\n",
    "print(token.word_counts)  #단어의 빈도수를 계산한 결과 출력"
   ]
  },
  {
   "cell_type": "code",
   "execution_count": 21,
   "metadata": {},
   "outputs": [
    {
     "name": "stdout",
     "output_type": "stream",
     "text": [
      "OrderedDict([('awesome', 1), ('thank', 2), ('you', 2), ('great', 1), ('not', 2), ('good', 1), ('bad', 1)])\n"
     ]
    }
   ],
   "source": [
    "# 다른 예시\n",
    "docs_2 = ['awesome thank you',\n",
    "         'great thank you',\n",
    "         'not good not bad']\n",
    "\n",
    "token2 = Tokenizer()\n",
    "token2.fit_on_texts(docs_2)\n",
    "print(token2.word_counts)"
   ]
  },
  {
   "cell_type": "code",
   "execution_count": 32,
   "metadata": {},
   "outputs": [
    {
     "name": "stdout",
     "output_type": "stream",
     "text": [
      "3\n"
     ]
    }
   ],
   "source": [
    "# 단어들이 몇 개의 문장에서 나오는지\n",
    "print(token.document_count)"
   ]
  },
  {
   "cell_type": "code",
   "execution_count": 26,
   "metadata": {},
   "outputs": [
    {
     "name": "stdout",
     "output_type": "stream",
     "text": [
      "{'텍스트의': 1, '각': 2, '딥러닝에서': 3, '먼저': 4, '단어를': 5, '나누어': 6, '토큰화합니다': 7, '단어로': 8, '토큰화해야': 9, '인식됩니다': 10, '토큰화한': 11, '결과는': 12, '사용될': 13, '수': 14, '있습니다': 15}\n",
      "{'thank': 1, 'you': 2, 'not': 3, 'awesome': 4, 'great': 5, 'good': 6, 'bad': 7}\n"
     ]
    }
   ],
   "source": [
    "# 각 단어에 매겨진 index를 dictionary로 출력 | 빈도수가 높은 단어 먼저\n",
    "print(token.word_index)\n",
    "print(token2.word_index)"
   ]
  },
  {
   "cell_type": "code",
   "execution_count": 42,
   "metadata": {},
   "outputs": [
    {
     "name": "stdout",
     "output_type": "stream",
     "text": [
      "\n",
      "원문:\n",
      " 해보지 않으면 해낼 수 없다\n",
      "\n",
      "토큰화:\n",
      " ['해보지', '않으면', '해낼', '수', '없다']\n",
      "\n",
      "단어카운트:\n",
      " OrderedDict([('먼저', 1), ('텍스트의', 2), ('각', 2), ('단어를', 1), ('나누어', 1), ('토큰화합니다', 1), ('단어로', 1), ('토큰화해야', 1), ('딥러닝에서', 2), ('인식됩니다', 1), ('토큰화한', 1), ('결과는', 1), ('사용될', 1), ('수', 1), ('있습니다', 1)])\n",
      "\n",
      "문장카운트:\n",
      " 3\n",
      "\n",
      "각 단어가 몇 개의 문장에 포함되어 있는가:\n",
      " defaultdict(<class 'int'>, {'단어를': 1, '각': 2, '나누어': 1, '텍스트의': 2, '토큰화합니다': 1, '먼저': 1, '딥러닝에서': 2, '인식됩니다': 1, '단어로': 1, '토큰화해야': 1, '수': 1, '토큰화한': 1, '있습니다': 1, '사용될': 1, '결과는': 1})\n",
      "\n",
      "각 단어에 매겨진 index 값:\n",
      " {'텍스트의': 1, '각': 2, '딥러닝에서': 3, '먼저': 4, '단어를': 5, '나누어': 6, '토큰화합니다': 7, '단어로': 8, '토큰화해야': 9, '인식됩니다': 10, '토큰화한': 11, '결과는': 12, '사용될': 13, '수': 14, '있습니다': 15}\n"
     ]
    }
   ],
   "source": [
    "text = '해보지 않으면 해낼 수 없다'\n",
    "result = text_to_word_sequence(text)\n",
    "print('\\n원문:\\n', text)\n",
    "print('\\n토큰화:\\n', result)\n",
    "\n",
    "from keras.preprocessing.text import Tokenizer\n",
    "\n",
    "\n",
    "docs = ['먼저 텍스트의 각 단어를 나누어 토큰화합니다.',\n",
    "       '텍스트의 각 단어로 토큰화해야 딥러닝에서 인식됩니다.',\n",
    "       '토큰화한 결과는 딥러닝에서 사용될 수 있습니다.']\n",
    "\n",
    "token = Tokenizer()  \n",
    "token.fit_on_texts(docs)\n",
    "\n",
    "print('\\n단어카운트:\\n', token.word_counts)\n",
    "print('\\n문장카운트:\\n', token.document_count)\n",
    "print('\\n각 단어가 몇 개의 문장에 포함되어 있는가:\\n', token.word_docs)\n",
    "print('\\n각 단어에 매겨진 index 값:\\n', token.word_index)\n"
   ]
  },
  {
   "cell_type": "code",
   "execution_count": 60,
   "metadata": {},
   "outputs": [
    {
     "name": "stdout",
     "output_type": "stream",
     "text": [
      "{'오랫동안': 1, '꿈꾸는': 2, '이는': 3, '그': 4, '꿈을': 5, '닮아간다': 6}\n",
      "[[1, 2, 3, 4, 5, 6]]\n",
      "[[[0. 1. 0. 0. 0. 0. 0.]\n",
      "  [0. 0. 1. 0. 0. 0. 0.]\n",
      "  [0. 0. 0. 1. 0. 0. 0.]\n",
      "  [0. 0. 0. 0. 1. 0. 0.]\n",
      "  [0. 0. 0. 0. 0. 1. 0.]\n",
      "  [0. 0. 0. 0. 0. 0. 1.]]]\n"
     ]
    }
   ],
   "source": [
    "# 원 핫 인코딩\n",
    "from tensorflow.keras.preprocessing.text import text_to_word_sequence\n",
    "text_hot = '오랫동안 꿈꾸는 이는 그 꿈을 닮아간다'\n",
    "# 토큰화\n",
    "token_hot = Tokenizer()\n",
    "token_hot.fit_on_texts([text_hot])\n",
    "print(token.word_index)\n",
    "#인덱스로만 채워진 배열 만들기\n",
    "x = token_hot.texts_to_sequences([text_hot])\n",
    "print(x)\n",
    "#1-6 정수를 0, 1의 배열로\n",
    "from keras.utils import to_categorical\n",
    "word_size = len(token_hot.word_index) + 1\n",
    "x = to_categorical(x, num_classes = word_size)\n",
    "print(x)"
   ]
  },
  {
   "cell_type": "code",
   "execution_count": null,
   "metadata": {},
   "outputs": [],
   "source": []
  }
 ],
 "metadata": {
  "kernelspec": {
   "display_name": "Python 3",
   "language": "python",
   "name": "python3"
  },
  "language_info": {
   "codemirror_mode": {
    "name": "ipython",
    "version": 3
   },
   "file_extension": ".py",
   "mimetype": "text/x-python",
   "name": "python",
   "nbconvert_exporter": "python",
   "pygments_lexer": "ipython3",
   "version": "3.7.6"
  }
 },
 "nbformat": 4,
 "nbformat_minor": 4
}
